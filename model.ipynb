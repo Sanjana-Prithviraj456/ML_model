{
 "cells": [
  {
   "cell_type": "markdown",
   "id": "d65ca341",
   "metadata": {},
   "source": [
    "## **Machine Learning Project : Regression Analysis**"
   ]
  },
  {
   "cell_type": "code",
   "execution_count": 2,
   "id": "90e3f0f2",
   "metadata": {},
   "outputs": [],
   "source": [
    "#STEP 1: IMPORT NECESSARY LIBRARIES\n",
    "\n",
    "# import Data Manipulation library\n",
    "import numpy as np \n",
    "import pandas as pd \n",
    "# import Data Visualization library \n",
    "import matplotlib.pyplot as plt \n",
    "import seaborn as sns \n",
    "# IMPORT warnings \n",
    "import warnings\n",
    "warnings.filterwarnings('ignore')\n",
    "import logging\n",
    "logging.basicConfig(level= logging.INFO,\n",
    "                    filemode= 'w',\n",
    "                    format='%(asctime)s - %(message)s -%(levelname)s',\n",
    "                    force = True,\n",
    "                    filename= 'logs.log')\n",
    "# import scikit-learn libraries \n",
    "from sklearn.preprocessing import LabelEncoder,MinMaxScaler,RobustScaler\n",
    "from sklearn.model_selection import train_test_split\n",
    "# metrics for regression analysis are as follows\n",
    "''' \n",
    "1. r2_score \n",
    "2. mean_absolute_error\n",
    "3. mean_squared_error\n",
    "'''\n",
    "from sklearn.metrics import r2_score,mean_absolute_error, mean_squared_error\n",
    "\n",
    "# other important libraries\n",
    "import time \n"
   ]
  },
  {
   "cell_type": "code",
   "execution_count": 3,
   "id": "efcba5f8",
   "metadata": {},
   "outputs": [],
   "source": [
    "# STEP 2 : CREATE YOUR OWN DATA\n",
    "# you can create your own dataset using numpy \n",
    "data=pd.DataFrame({\n",
    "'feature1': np.random.randint(0,10000,1000),\n",
    "'feature2': np.random.randint(0,30,1000),\n",
    "'feature3': np.random.randint(20,10000,1000),\n",
    "'target' :  np.random.randint(0,100,1000)\n",
    "})"
   ]
  },
  {
   "cell_type": "code",
   "execution_count": 4,
   "id": "ad174de2",
   "metadata": {},
   "outputs": [
    {
     "data": {
      "text/html": [
       "<div>\n",
       "<style scoped>\n",
       "    .dataframe tbody tr th:only-of-type {\n",
       "        vertical-align: middle;\n",
       "    }\n",
       "\n",
       "    .dataframe tbody tr th {\n",
       "        vertical-align: top;\n",
       "    }\n",
       "\n",
       "    .dataframe thead th {\n",
       "        text-align: right;\n",
       "    }\n",
       "</style>\n",
       "<table border=\"1\" class=\"dataframe\">\n",
       "  <thead>\n",
       "    <tr style=\"text-align: right;\">\n",
       "      <th></th>\n",
       "      <th>feature1</th>\n",
       "      <th>feature2</th>\n",
       "      <th>feature3</th>\n",
       "      <th>target</th>\n",
       "    </tr>\n",
       "  </thead>\n",
       "  <tbody>\n",
       "    <tr>\n",
       "      <th>359</th>\n",
       "      <td>1872</td>\n",
       "      <td>22</td>\n",
       "      <td>1433</td>\n",
       "      <td>75</td>\n",
       "    </tr>\n",
       "    <tr>\n",
       "      <th>210</th>\n",
       "      <td>5546</td>\n",
       "      <td>24</td>\n",
       "      <td>2491</td>\n",
       "      <td>68</td>\n",
       "    </tr>\n",
       "    <tr>\n",
       "      <th>526</th>\n",
       "      <td>6731</td>\n",
       "      <td>8</td>\n",
       "      <td>8260</td>\n",
       "      <td>68</td>\n",
       "    </tr>\n",
       "    <tr>\n",
       "      <th>153</th>\n",
       "      <td>9331</td>\n",
       "      <td>22</td>\n",
       "      <td>7713</td>\n",
       "      <td>55</td>\n",
       "    </tr>\n",
       "    <tr>\n",
       "      <th>994</th>\n",
       "      <td>4899</td>\n",
       "      <td>25</td>\n",
       "      <td>1076</td>\n",
       "      <td>53</td>\n",
       "    </tr>\n",
       "    <tr>\n",
       "      <th>...</th>\n",
       "      <td>...</td>\n",
       "      <td>...</td>\n",
       "      <td>...</td>\n",
       "      <td>...</td>\n",
       "    </tr>\n",
       "    <tr>\n",
       "      <th>111</th>\n",
       "      <td>783</td>\n",
       "      <td>27</td>\n",
       "      <td>4564</td>\n",
       "      <td>15</td>\n",
       "    </tr>\n",
       "    <tr>\n",
       "      <th>899</th>\n",
       "      <td>5229</td>\n",
       "      <td>6</td>\n",
       "      <td>2933</td>\n",
       "      <td>11</td>\n",
       "    </tr>\n",
       "    <tr>\n",
       "      <th>353</th>\n",
       "      <td>9466</td>\n",
       "      <td>7</td>\n",
       "      <td>1063</td>\n",
       "      <td>82</td>\n",
       "    </tr>\n",
       "    <tr>\n",
       "      <th>15</th>\n",
       "      <td>6332</td>\n",
       "      <td>22</td>\n",
       "      <td>1216</td>\n",
       "      <td>19</td>\n",
       "    </tr>\n",
       "    <tr>\n",
       "      <th>848</th>\n",
       "      <td>4379</td>\n",
       "      <td>0</td>\n",
       "      <td>5933</td>\n",
       "      <td>68</td>\n",
       "    </tr>\n",
       "  </tbody>\n",
       "</table>\n",
       "<p>1000 rows × 4 columns</p>\n",
       "</div>"
      ],
      "text/plain": [
       "     feature1  feature2  feature3  target\n",
       "359      1872        22      1433      75\n",
       "210      5546        24      2491      68\n",
       "526      6731         8      8260      68\n",
       "153      9331        22      7713      55\n",
       "994      4899        25      1076      53\n",
       "..        ...       ...       ...     ...\n",
       "111       783        27      4564      15\n",
       "899      5229         6      2933      11\n",
       "353      9466         7      1063      82\n",
       "15       6332        22      1216      19\n",
       "848      4379         0      5933      68\n",
       "\n",
       "[1000 rows x 4 columns]"
      ]
     },
     "execution_count": 4,
     "metadata": {},
     "output_type": "execute_result"
    }
   ],
   "source": [
    "data.sample(frac=1)"
   ]
  },
  {
   "cell_type": "code",
   "execution_count": 5,
   "id": "c89446fe",
   "metadata": {},
   "outputs": [
    {
     "name": "stdout",
     "output_type": "stream",
     "text": [
      "<class 'pandas.core.frame.DataFrame'>\n",
      "RangeIndex: 1000 entries, 0 to 999\n",
      "Data columns (total 4 columns):\n",
      " #   Column    Non-Null Count  Dtype\n",
      "---  ------    --------------  -----\n",
      " 0   feature1  1000 non-null   int32\n",
      " 1   feature2  1000 non-null   int32\n",
      " 2   feature3  1000 non-null   int32\n",
      " 3   target    1000 non-null   int32\n",
      "dtypes: int32(4)\n",
      "memory usage: 15.8 KB\n"
     ]
    }
   ],
   "source": [
    "# STEP 3 : CHECKING INFORMATION\n",
    "data.info()"
   ]
  },
  {
   "cell_type": "code",
   "execution_count": 6,
   "id": "3a13d3cc",
   "metadata": {},
   "outputs": [
    {
     "data": {
      "image/png": "[encoded data removed]",
      "text/plain": [
       "<Figure size 640x480 with 1 Axes>"
      ]
     },
     "metadata": {},
     "output_type": "display_data"
    }
   ],
   "source": [
    "#STEP 4: CHECKING NULL VALUES\n",
    "data.isnull().sum().plot(kind='bar')\n",
    "plt.title('checking null values')\n",
    "plt.show()\n"
   ]
  },
  {
   "cell_type": "code",
   "execution_count": 7,
   "id": "325654d3",
   "metadata": {},
   "outputs": [
    {
     "data": {
      "text/html": [
       "<div>\n",
       "<style scoped>\n",
       "    .dataframe tbody tr th:only-of-type {\n",
       "        vertical-align: middle;\n",
       "    }\n",
       "\n",
       "    .dataframe tbody tr th {\n",
       "        vertical-align: top;\n",
       "    }\n",
       "\n",
       "    .dataframe thead th {\n",
       "        text-align: right;\n",
       "    }\n",
       "</style>\n",
       "<table border=\"1\" class=\"dataframe\">\n",
       "  <thead>\n",
       "    <tr style=\"text-align: right;\">\n",
       "      <th></th>\n",
       "      <th>Features</th>\n",
       "      <th>Mean</th>\n",
       "      <th>Median</th>\n",
       "      <th>Min</th>\n",
       "      <th>Max</th>\n",
       "      <th>Q1</th>\n",
       "      <th>Q3</th>\n",
       "      <th>IQR</th>\n",
       "      <th>Standard Deviation</th>\n",
       "      <th>Skewness</th>\n",
       "      <th>Kurtosis</th>\n",
       "    </tr>\n",
       "  </thead>\n",
       "  <tbody>\n",
       "    <tr>\n",
       "      <th>0</th>\n",
       "      <td>feature1</td>\n",
       "      <td>5317.225</td>\n",
       "      <td>5475.5</td>\n",
       "      <td>6</td>\n",
       "      <td>9993</td>\n",
       "      <td>3112.25</td>\n",
       "      <td>7734.0</td>\n",
       "      <td>4621.75</td>\n",
       "      <td>2813.273729</td>\n",
       "      <td>-0.127058</td>\n",
       "      <td>-1.091968</td>\n",
       "    </tr>\n",
       "    <tr>\n",
       "      <th>1</th>\n",
       "      <td>feature2</td>\n",
       "      <td>14.529</td>\n",
       "      <td>15.0</td>\n",
       "      <td>0</td>\n",
       "      <td>29</td>\n",
       "      <td>7.00</td>\n",
       "      <td>23.0</td>\n",
       "      <td>16.00</td>\n",
       "      <td>8.800717</td>\n",
       "      <td>-0.022595</td>\n",
       "      <td>-1.242144</td>\n",
       "    </tr>\n",
       "    <tr>\n",
       "      <th>2</th>\n",
       "      <td>feature3</td>\n",
       "      <td>5140.334</td>\n",
       "      <td>5221.5</td>\n",
       "      <td>30</td>\n",
       "      <td>9973</td>\n",
       "      <td>2630.00</td>\n",
       "      <td>7614.0</td>\n",
       "      <td>4984.00</td>\n",
       "      <td>2876.847830</td>\n",
       "      <td>-0.063061</td>\n",
       "      <td>-1.220619</td>\n",
       "    </tr>\n",
       "    <tr>\n",
       "      <th>3</th>\n",
       "      <td>target</td>\n",
       "      <td>50.451</td>\n",
       "      <td>51.0</td>\n",
       "      <td>0</td>\n",
       "      <td>99</td>\n",
       "      <td>26.75</td>\n",
       "      <td>73.0</td>\n",
       "      <td>46.25</td>\n",
       "      <td>28.073113</td>\n",
       "      <td>-0.033694</td>\n",
       "      <td>-1.145146</td>\n",
       "    </tr>\n",
       "  </tbody>\n",
       "</table>\n",
       "</div>"
      ],
      "text/plain": [
       "   Features      Mean  Median  Min   Max       Q1      Q3      IQR  \\\n",
       "0  feature1  5317.225  5475.5    6  9993  3112.25  7734.0  4621.75   \n",
       "1  feature2    14.529    15.0    0    29     7.00    23.0    16.00   \n",
       "2  feature3  5140.334  5221.5   30  9973  2630.00  7614.0  4984.00   \n",
       "3    target    50.451    51.0    0    99    26.75    73.0    46.25   \n",
       "\n",
       "   Standard Deviation  Skewness  Kurtosis  \n",
       "0         2813.273729 -0.127058 -1.091968  \n",
       "1            8.800717 -0.022595 -1.242144  \n",
       "2         2876.847830 -0.063061 -1.220619  \n",
       "3           28.073113 -0.033694 -1.145146  "
      ]
     },
     "execution_count": 7,
     "metadata": {},
     "output_type": "execute_result"
    }
   ],
   "source": [
    "#STEP 5 : EDA : Exploratory data analysis \n",
    "from collections import OrderedDict\n",
    "stats = []\n",
    "for i in data.columns:  # data is declare dataset not any numerical col create\n",
    "    numerical_stats = OrderedDict({\n",
    "        'Features': i,\n",
    "        'Mean':data[i].mean(),\n",
    "        'Median':data[i].median(),\n",
    "        'Min': data[i].min(),\n",
    "        'Max': data[i].max(),\n",
    "        'Q1': data[i].quantile(0.25),\n",
    "        'Q3': data[i].quantile(0.75),\n",
    "        'IQR': data[i].quantile(0.75)-data[i].quantile(0.25),\n",
    "        'Standard Deviation': data[i].std(),\n",
    "        'Skewness': data[i].skew(),\n",
    "        'Kurtosis': data[i].kurt()\n",
    "\n",
    "    })\n",
    "    stats.append(numerical_stats)\n",
    "    report=pd.DataFrame(stats)\n",
    "report"
   ]
  },
  {
   "cell_type": "code",
   "execution_count": 8,
   "id": "3a3e64c0",
   "metadata": {},
   "outputs": [
    {
     "data": {
      "image/png": "[encoded data removed]",
      "text/plain": [
       "<Figure size 640x480 with 1 Axes>"
      ]
     },
     "metadata": {},
     "output_type": "display_data"
    }
   ],
   "source": [
    "#step 6: checking correlation of feature w.r.t target column\n",
    "data.corr()['target'].plot(kind ='barh')\n",
    "plt.axvline(0,linestyle ='--',color='maroon')\n",
    "plt.title('Correlation plot showing positive & negative correlatn')\n",
    "plt.show()"
   ]
  },
  {
   "cell_type": "code",
   "execution_count": null,
   "id": "065e4fdc",
   "metadata": {},
   "outputs": [],
   "source": [
    "# Step 7 : model building \n",
    "# x is independant column\n",
    "X = data.drop(columns= 'target', axis= 1 )\n",
    "# y is dependent column\n",
    "y = data['target']\n",
    "# maximum value of random state is will be range will be (0 to 4294576)\n",
    "''' \n",
    "Data split : 70% training data and 30% test data\n",
    "\n",
    "'''\n",
    "X_train, X_test,y_train,y_test= train_test_split(X,y,test_size=0.30,\n",
    "                                                 random_state=2)\n",
    "#scaling technique Min Max scalar \n",
    "# fit is always run on X training data \n",
    "''' \n",
    "X_train: seen data\n",
    "X_test : unseen data use only transform\n",
    "'''\n",
    "sc =MinMaxScaler()\n",
    "X_train = sc.fit_transform(X_train)\n",
    "X_test = sc.transform(X_test)"
   ]
  },
  {
   "cell_type": "code",
   "execution_count": null,
   "id": "e839d1cb",
   "metadata": {},
   "outputs": [
    {
     "data": {
      "text/plain": [
       "-0.01328938709445393"
      ]
     },
     "execution_count": 10,
     "metadata": {},
     "output_type": "execute_result"
    }
   ],
   "source": [
    "# linear regression model \n",
    "from sklearn.linear_model import LinearRegression\n",
    "# y_train ans the data x_train que and ans the data\n",
    "model_LR = LinearRegression().fit(X_train,y_train)\n",
    "y_pred_LR = model_LR.predict(X_test)\n",
    "r2_score(y_test,y_pred_LR)"
   ]
  },
  {
   "cell_type": "code",
   "execution_count": 11,
   "id": "f9e30487",
   "metadata": {},
   "outputs": [
    {
     "data": {
      "text/plain": [
       "(array([-3.47331864,  2.09656758,  2.69701483]), np.float64(50.40436664589819))"
      ]
     },
     "execution_count": 11,
     "metadata": {},
     "output_type": "execute_result"
    }
   ],
   "source": [
    "# \n",
    "model_LR.coef_,model_LR.intercept_\n"
   ]
  },
  {
   "cell_type": "code",
   "execution_count": 12,
   "id": "71c4622f",
   "metadata": {},
   "outputs": [
    {
     "data": {
      "text/plain": [
       "<Axes: xlabel='target'>"
      ]
     },
     "execution_count": 12,
     "metadata": {},
     "output_type": "execute_result"
    },
    {
     "data": {
      "image/png": "[encoded data removed]",
      "text/plain": [
       "<Figure size 640x480 with 1 Axes>"
      ]
     },
     "metadata": {},
     "output_type": "display_data"
    }
   ],
   "source": [
    "sns.regplot(x =y_test, y=y_pred_LR)\n"
   ]
  },
  {
   "cell_type": "code",
   "execution_count": 13,
   "id": "82d25c59",
   "metadata": {},
   "outputs": [
    {
     "data": {
      "text/plain": [
       "-0.013104251795267974"
      ]
     },
     "execution_count": 13,
     "metadata": {},
     "output_type": "execute_result"
    }
   ],
   "source": [
    "# Ridge Regression\n",
    "from sklearn.linear_model import ridge_regression,Ridge,ElasticNet\n",
    "ridge = Ridge().fit(X_train,y_train)\n",
    "y_pred_ridge = ridge.predict(X_test)\n",
    "r2_score(y_test,y_pred_ridge)"
   ]
  },
  {
   "cell_type": "code",
   "execution_count": 15,
   "id": "0dc26d35",
   "metadata": {},
   "outputs": [
    {
     "ename": "TypeError",
     "evalue": "LinearModel.predict() missing 1 required positional argument: 'X'",
     "output_type": "error",
     "traceback": [
      "\u001b[31m---------------------------------------------------------------------------\u001b[39m",
      "\u001b[31mTypeError\u001b[39m                                 Traceback (most recent call last)",
      "\u001b[36mCell\u001b[39m\u001b[36m \u001b[39m\u001b[32mIn[15]\u001b[39m\u001b[32m, line 3\u001b[39m\n\u001b[32m      1\u001b[39m \u001b[38;5;28;01mfrom\u001b[39;00m\u001b[38;5;250m \u001b[39m\u001b[34;01msklearn\u001b[39;00m\u001b[34;01m.\u001b[39;00m\u001b[34;01mlinear_model\u001b[39;00m\u001b[38;5;250m \u001b[39m\u001b[38;5;28;01mimport\u001b[39;00m Lasso\n\u001b[32m      2\u001b[39m lasso = Lasso().fit(X_train,y_train)\n\u001b[32m----> \u001b[39m\u001b[32m3\u001b[39m y_pred_lasso = \u001b[43mLasso\u001b[49m\u001b[43m.\u001b[49m\u001b[43mpredict\u001b[49m\u001b[43m \u001b[49m\u001b[43m(\u001b[49m\u001b[43mX_test\u001b[49m\u001b[43m)\u001b[49m\n\u001b[32m      4\u001b[39m r2_score(y_test,y_pred_lasso)\n",
      "\u001b[31mTypeError\u001b[39m: LinearModel.predict() missing 1 required positional argument: 'X'"
     ]
    }
   ],
   "source": [
    "from sklearn.linear_model import Lasso\n",
    "lasso = Lasso().fit(X_train,y_train)\n",
    "y_pred_lasso = Lasso.predict (X_test)\n",
    "r2_score(y_test,y_pred_lasso)"
   ]
  },
  {
   "cell_type": "code",
   "execution_count": null,
   "id": "dfb6027e",
   "metadata": {},
   "outputs": [
    {
     "data": {
      "text/plain": [
       "(array([-3.9270011 ,  3.04061026, -4.65277878]), np.float64(52.42149928855333))"
      ]
     },
     "execution_count": 31,
     "metadata": {},
     "output_type": "execute_result"
    }
   ],
   "source": [
    "# elastic net \n",
    "model_LR.coef_,model_LR.intercept_"
   ]
  },
  {
   "cell_type": "code",
   "execution_count": null,
   "id": "d75c0df7",
   "metadata": {},
   "outputs": [
    {
     "data": {
      "text/html": [
       "<div>\n",
       "<style scoped>\n",
       "    .dataframe tbody tr th:only-of-type {\n",
       "        vertical-align: middle;\n",
       "    }\n",
       "\n",
       "    .dataframe tbody tr th {\n",
       "        vertical-align: top;\n",
       "    }\n",
       "\n",
       "    .dataframe thead th {\n",
       "        text-align: right;\n",
       "    }\n",
       "</style>\n",
       "<table border=\"1\" class=\"dataframe\">\n",
       "  <thead>\n",
       "    <tr style=\"text-align: right;\">\n",
       "      <th></th>\n",
       "      <th>feature1</th>\n",
       "      <th>feature2</th>\n",
       "      <th>feature3</th>\n",
       "      <th>target</th>\n",
       "    </tr>\n",
       "  </thead>\n",
       "  <tbody>\n",
       "    <tr>\n",
       "      <th>0</th>\n",
       "      <td>7538</td>\n",
       "      <td>24</td>\n",
       "      <td>1588</td>\n",
       "      <td>77</td>\n",
       "    </tr>\n",
       "    <tr>\n",
       "      <th>1</th>\n",
       "      <td>5020</td>\n",
       "      <td>17</td>\n",
       "      <td>3031</td>\n",
       "      <td>54</td>\n",
       "    </tr>\n",
       "    <tr>\n",
       "      <th>2</th>\n",
       "      <td>5706</td>\n",
       "      <td>8</td>\n",
       "      <td>7449</td>\n",
       "      <td>25</td>\n",
       "    </tr>\n",
       "    <tr>\n",
       "      <th>3</th>\n",
       "      <td>8785</td>\n",
       "      <td>9</td>\n",
       "      <td>6544</td>\n",
       "      <td>24</td>\n",
       "    </tr>\n",
       "    <tr>\n",
       "      <th>4</th>\n",
       "      <td>2003</td>\n",
       "      <td>14</td>\n",
       "      <td>1969</td>\n",
       "      <td>21</td>\n",
       "    </tr>\n",
       "    <tr>\n",
       "      <th>...</th>\n",
       "      <td>...</td>\n",
       "      <td>...</td>\n",
       "      <td>...</td>\n",
       "      <td>...</td>\n",
       "    </tr>\n",
       "    <tr>\n",
       "      <th>995</th>\n",
       "      <td>7166</td>\n",
       "      <td>17</td>\n",
       "      <td>6111</td>\n",
       "      <td>40</td>\n",
       "    </tr>\n",
       "    <tr>\n",
       "      <th>996</th>\n",
       "      <td>2288</td>\n",
       "      <td>11</td>\n",
       "      <td>7392</td>\n",
       "      <td>64</td>\n",
       "    </tr>\n",
       "    <tr>\n",
       "      <th>997</th>\n",
       "      <td>6047</td>\n",
       "      <td>16</td>\n",
       "      <td>625</td>\n",
       "      <td>53</td>\n",
       "    </tr>\n",
       "    <tr>\n",
       "      <th>998</th>\n",
       "      <td>1086</td>\n",
       "      <td>5</td>\n",
       "      <td>9071</td>\n",
       "      <td>71</td>\n",
       "    </tr>\n",
       "    <tr>\n",
       "      <th>999</th>\n",
       "      <td>4324</td>\n",
       "      <td>2</td>\n",
       "      <td>9908</td>\n",
       "      <td>47</td>\n",
       "    </tr>\n",
       "  </tbody>\n",
       "</table>\n",
       "<p>1000 rows × 4 columns</p>\n",
       "</div>"
      ],
      "text/plain": [
       "     feature1  feature2  feature3  target\n",
       "0        7538        24      1588      77\n",
       "1        5020        17      3031      54\n",
       "2        5706         8      7449      25\n",
       "3        8785         9      6544      24\n",
       "4        2003        14      1969      21\n",
       "..        ...       ...       ...     ...\n",
       "995      7166        17      6111      40\n",
       "996      2288        11      7392      64\n",
       "997      6047        16       625      53\n",
       "998      1086         5      9071      71\n",
       "999      4324         2      9908      47\n",
       "\n",
       "[1000 rows x 4 columns]"
      ]
     },
     "execution_count": 18,
     "metadata": {},
     "output_type": "execute_result"
    }
   ],
   "source": [
    "# regression formula \n",
    "'''  \n",
    "y = mx+c  (x is random value given in dataset columns) \n",
    "y is must be (target value) find wrt m and x which is contain dataset\n",
    "y=m1*x1 + m2*x2 + m3*x3 + C\n",
    "'''\n",
    "data"
   ]
  },
  {
   "cell_type": "code",
   "execution_count": null,
   "id": "a10349d1",
   "metadata": {},
   "outputs": [],
   "source": [
    "target = (-3.9270011 * 7538 )+(3.04061026 *24)+(-4.65277878 * 1588) + 52.4214992\n",
    "# -3.92700 is coefficient and model intercept declare \n",
    "# wrt model_LR.coef_,model_LR.intercept_  this formula "
   ]
  },
  {
   "cell_type": "code",
   "execution_count": null,
   "id": "454d8272",
   "metadata": {},
   "outputs": [
    {
     "data": {
      "text/plain": [
       "-36864.950848911445"
      ]
     },
     "execution_count": 20,
     "metadata": {},
     "output_type": "execute_result"
    }
   ],
   "source": [
    "target"
   ]
  }
 ],
 "metadata": {
  "kernelspec": {
   "display_name": "env",
   "language": "python",
   "name": "python3"
  },
  "language_info": {
   "codemirror_mode": {
    "name": "ipython",
    "version": 3
   },
   "file_extension": ".py",
   "mimetype": "text/x-python",
   "name": "python",
   "nbconvert_exporter": "python",
   "pygments_lexer": "ipython3",
   "version": "3.12.7"
  }
 },
 "nbformat": 4,
 "nbformat_minor": 5
}
