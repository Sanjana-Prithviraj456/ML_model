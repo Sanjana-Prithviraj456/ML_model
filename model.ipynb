{
 "cells": [
  {
   "cell_type": "markdown",
   "id": "30846550",
   "metadata": {},
   "source": [
    "## ** Machine Learning Project : Linear Regression Analysis **"
   ]
  },
  {
   "cell_type": "code",
   "execution_count": null,
   "id": "707a6852",
   "metadata": {},
   "outputs": [],
   "source": [
    "# Step 1 : import libraries\n",
    "# import data manipulation library\n",
    "import numpy as np\n",
    "import pandas as pd\n",
    "\n",
    "# import data visualization library\n",
    "import seaborn as sns\n",
    "import matplotlib.pyplot as plt\n",
    "\n",
    "# import warning\n",
    "import warnings\n",
    "warnings.filterwarnings(\"ignore\")\n",
    "\n",
    "# import logging\n",
    "import logging\n",
    "logging.basicConfig(level=logging.INFO,\n",
    "                    filemode='w',\n",
    "                    filename=\"logs.log\",\n",
    "                    format=\"%(asctime)s - %(levelname)s - %(message)s\",\n",
    "                    force= True)\n",
    "\n",
    "# import scikit-learn library\n",
    "from sklearn.preprocessing import LabelEncoder,MinMaxScaler,RobustScaler\n",
    "from sklearn.model_selection import train_test_split\n",
    "from sklearn.metrics import r2_score,mean_absolute_error,mean_squared_error\n",
    "\n",
    "# other important library\n",
    "import time"
   ]
  },
  {
   "cell_type": "code",
   "execution_count": null,
   "id": "323aaa9c",
   "metadata": {},
   "outputs": [],
   "source": [
    "# step 2 : Import dataset using pandas function\n",
    "data = pd.DataFrame({\n",
    "    'Feature1':np.random.randint(0,10000,1000),\n",
    "    'Feature2':np.random.randint(0,30,1000),\n",
    "    'Feature3':np.random.randint(20,10000,1000),\n",
    "    'Target':np.random.randint(0,100,1000)\n",
    "})"
   ]
  },
  {
   "cell_type": "code",
   "execution_count": 6,
   "id": "1f7d3303",
   "metadata": {},
   "outputs": [
    {
     "data": {
      "text/html": [
       "<div>\n",
       "<style scoped>\n",
       "    .dataframe tbody tr th:only-of-type {\n",
       "        vertical-align: middle;\n",
       "    }\n",
       "\n",
       "    .dataframe tbody tr th {\n",
       "        vertical-align: top;\n",
       "    }\n",
       "\n",
       "    .dataframe thead th {\n",
       "        text-align: right;\n",
       "    }\n",
       "</style>\n",
       "<table border=\"1\" class=\"dataframe\">\n",
       "  <thead>\n",
       "    <tr style=\"text-align: right;\">\n",
       "      <th></th>\n",
       "      <th>Feature1</th>\n",
       "      <th>Feature2</th>\n",
       "      <th>Feature3</th>\n",
       "      <th>Target</th>\n",
       "    </tr>\n",
       "  </thead>\n",
       "  <tbody>\n",
       "    <tr>\n",
       "      <th>0</th>\n",
       "      <td>654</td>\n",
       "      <td>9</td>\n",
       "      <td>3145</td>\n",
       "      <td>46</td>\n",
       "    </tr>\n",
       "    <tr>\n",
       "      <th>1</th>\n",
       "      <td>8578</td>\n",
       "      <td>1</td>\n",
       "      <td>6985</td>\n",
       "      <td>11</td>\n",
       "    </tr>\n",
       "    <tr>\n",
       "      <th>2</th>\n",
       "      <td>8858</td>\n",
       "      <td>21</td>\n",
       "      <td>3562</td>\n",
       "      <td>0</td>\n",
       "    </tr>\n",
       "    <tr>\n",
       "      <th>3</th>\n",
       "      <td>4990</td>\n",
       "      <td>21</td>\n",
       "      <td>5574</td>\n",
       "      <td>32</td>\n",
       "    </tr>\n",
       "    <tr>\n",
       "      <th>4</th>\n",
       "      <td>2471</td>\n",
       "      <td>18</td>\n",
       "      <td>7572</td>\n",
       "      <td>31</td>\n",
       "    </tr>\n",
       "    <tr>\n",
       "      <th>...</th>\n",
       "      <td>...</td>\n",
       "      <td>...</td>\n",
       "      <td>...</td>\n",
       "      <td>...</td>\n",
       "    </tr>\n",
       "    <tr>\n",
       "      <th>995</th>\n",
       "      <td>7426</td>\n",
       "      <td>0</td>\n",
       "      <td>912</td>\n",
       "      <td>13</td>\n",
       "    </tr>\n",
       "    <tr>\n",
       "      <th>996</th>\n",
       "      <td>9666</td>\n",
       "      <td>5</td>\n",
       "      <td>6634</td>\n",
       "      <td>65</td>\n",
       "    </tr>\n",
       "    <tr>\n",
       "      <th>997</th>\n",
       "      <td>5812</td>\n",
       "      <td>28</td>\n",
       "      <td>5632</td>\n",
       "      <td>39</td>\n",
       "    </tr>\n",
       "    <tr>\n",
       "      <th>998</th>\n",
       "      <td>5902</td>\n",
       "      <td>7</td>\n",
       "      <td>1387</td>\n",
       "      <td>13</td>\n",
       "    </tr>\n",
       "    <tr>\n",
       "      <th>999</th>\n",
       "      <td>2773</td>\n",
       "      <td>1</td>\n",
       "      <td>6291</td>\n",
       "      <td>20</td>\n",
       "    </tr>\n",
       "  </tbody>\n",
       "</table>\n",
       "<p>1000 rows × 4 columns</p>\n",
       "</div>"
      ],
      "text/plain": [
       "     Feature1  Feature2  Feature3  Target\n",
       "0         654         9      3145      46\n",
       "1        8578         1      6985      11\n",
       "2        8858        21      3562       0\n",
       "3        4990        21      5574      32\n",
       "4        2471        18      7572      31\n",
       "..        ...       ...       ...     ...\n",
       "995      7426         0       912      13\n",
       "996      9666         5      6634      65\n",
       "997      5812        28      5632      39\n",
       "998      5902         7      1387      13\n",
       "999      2773         1      6291      20\n",
       "\n",
       "[1000 rows x 4 columns]"
      ]
     },
     "execution_count": 6,
     "metadata": {},
     "output_type": "execute_result"
    }
   ],
   "source": [
    "data"
   ]
  },
  {
   "cell_type": "code",
   "execution_count": null,
   "id": "074fee4b",
   "metadata": {},
   "outputs": [
    {
     "name": "stdout",
     "output_type": "stream",
     "text": [
      "<class 'pandas.core.frame.DataFrame'>\n",
      "RangeIndex: 1000 entries, 0 to 999\n",
      "Data columns (total 4 columns):\n",
      " #   Column    Non-Null Count  Dtype\n",
      "---  ------    --------------  -----\n",
      " 0   Feature1  1000 non-null   int32\n",
      " 1   Feature2  1000 non-null   int32\n",
      " 2   Feature3  1000 non-null   int32\n",
      " 3   Target    1000 non-null   int32\n",
      "dtypes: int32(4)\n",
      "memory usage: 15.8 KB\n"
     ]
    }
   ],
   "source": [
    "# step 3 : checking dataset information\n",
    "data.info()"
   ]
  },
  {
   "cell_type": "code",
   "execution_count": null,
   "id": "e70797ae",
   "metadata": {},
   "outputs": [
    {
     "data": {
      "text/plain": [
       "<Axes: >"
      ]
     },
     "execution_count": 8,
     "metadata": {},
     "output_type": "execute_result"
    },
    {
     "data": {
      "image/png": "[encoded data removed]",
      "text/plain": [
       "<Figure size 640x480 with 1 Axes>"
      ]
     },
     "metadata": {},
     "output_type": "display_data"
    }
   ],
   "source": [
    "# step 4 : checking null values\n",
    "data.isnull().sum().plot(kind='bar')"
   ]
  },
  {
   "cell_type": "code",
   "execution_count": null,
   "id": "b6b42e90",
   "metadata": {},
   "outputs": [
    {
     "data": {
      "text/html": [
       "<div>\n",
       "<style scoped>\n",
       "    .dataframe tbody tr th:only-of-type {\n",
       "        vertical-align: middle;\n",
       "    }\n",
       "\n",
       "    .dataframe tbody tr th {\n",
       "        vertical-align: top;\n",
       "    }\n",
       "\n",
       "    .dataframe thead th {\n",
       "        text-align: right;\n",
       "    }\n",
       "</style>\n",
       "<table border=\"1\" class=\"dataframe\">\n",
       "  <thead>\n",
       "    <tr style=\"text-align: right;\">\n",
       "      <th></th>\n",
       "      <th>Features</th>\n",
       "      <th>Count</th>\n",
       "      <th>Mean</th>\n",
       "      <th>Median</th>\n",
       "      <th>Q1</th>\n",
       "      <th>Q3</th>\n",
       "      <th>IQR</th>\n",
       "      <th>Skewness</th>\n",
       "      <th>Kurtosis</th>\n",
       "    </tr>\n",
       "  </thead>\n",
       "  <tbody>\n",
       "    <tr>\n",
       "      <th>0</th>\n",
       "      <td>Feature1</td>\n",
       "      <td>1000</td>\n",
       "      <td>4929.382</td>\n",
       "      <td>4856.5</td>\n",
       "      <td>2490.25</td>\n",
       "      <td>7455.25</td>\n",
       "      <td>0.0</td>\n",
       "      <td>0.026957</td>\n",
       "      <td>-1.190001</td>\n",
       "    </tr>\n",
       "    <tr>\n",
       "      <th>1</th>\n",
       "      <td>Feature2</td>\n",
       "      <td>1000</td>\n",
       "      <td>14.585</td>\n",
       "      <td>15.0</td>\n",
       "      <td>7.00</td>\n",
       "      <td>22.00</td>\n",
       "      <td>0.0</td>\n",
       "      <td>-0.016862</td>\n",
       "      <td>-1.203056</td>\n",
       "    </tr>\n",
       "    <tr>\n",
       "      <th>2</th>\n",
       "      <td>Feature3</td>\n",
       "      <td>1000</td>\n",
       "      <td>4998.010</td>\n",
       "      <td>4985.0</td>\n",
       "      <td>2503.75</td>\n",
       "      <td>7478.25</td>\n",
       "      <td>0.0</td>\n",
       "      <td>0.030371</td>\n",
       "      <td>-1.180924</td>\n",
       "    </tr>\n",
       "    <tr>\n",
       "      <th>3</th>\n",
       "      <td>Target</td>\n",
       "      <td>1000</td>\n",
       "      <td>49.203</td>\n",
       "      <td>49.0</td>\n",
       "      <td>24.00</td>\n",
       "      <td>76.00</td>\n",
       "      <td>0.0</td>\n",
       "      <td>0.004601</td>\n",
       "      <td>-1.247382</td>\n",
       "    </tr>\n",
       "  </tbody>\n",
       "</table>\n",
       "</div>"
      ],
      "text/plain": [
       "   Features  Count      Mean  Median       Q1       Q3  IQR  Skewness  \\\n",
       "0  Feature1   1000  4929.382  4856.5  2490.25  7455.25  0.0  0.026957   \n",
       "1  Feature2   1000    14.585    15.0     7.00    22.00  0.0 -0.016862   \n",
       "2  Feature3   1000  4998.010  4985.0  2503.75  7478.25  0.0  0.030371   \n",
       "3    Target   1000    49.203    49.0    24.00    76.00  0.0  0.004601   \n",
       "\n",
       "   Kurtosis  \n",
       "0 -1.190001  \n",
       "1 -1.203056  \n",
       "2 -1.180924  \n",
       "3 -1.247382  "
      ]
     },
     "execution_count": 10,
     "metadata": {},
     "output_type": "execute_result"
    }
   ],
   "source": [
    "# step 5: EDA : Exploratory data analysis\n",
    "from collections import OrderedDict\n",
    "stats = []\n",
    "for i in data.columns:\n",
    "    numerical_stats = OrderedDict({\n",
    "        'Features':i,\n",
    "        'Count':data[i].count(),\n",
    "        'Mean':data[i].mean(),\n",
    "        'Median':data[i].median(),\n",
    "        'Q1':data[i].quantile(0.25),\n",
    "        'Q3':data[i].quantile(0.75),\n",
    "        'IQR': data[i].quantile(0.75) - data[i].quantile(0.75),\n",
    "        'Skewness':data[i].skew(),\n",
    "        'Kurtosis':data[i].kurt()\n",
    "\n",
    "    })\n",
    "    stats.append(numerical_stats)\n",
    "    report = pd.DataFrame(stats)\n",
    "report"
   ]
  },
  {
   "cell_type": "code",
   "execution_count": null,
   "id": "bfb8a21d",
   "metadata": {},
   "outputs": [
    {
     "data": {
      "image/png": "[encoded data removed]",
      "text/plain": [
       "<Figure size 640x480 with 1 Axes>"
      ]
     },
     "metadata": {},
     "output_type": "display_data"
    }
   ],
   "source": [
    "# checking corelation of features w.r.t. target column\n",
    "data.corr()['Target'].plot(kind='barh')\n",
    "plt.axvline(0,linestyle='--',color = 'maroon')\n",
    "plt.title('Corelation plot showing positive and negative corelation')\n",
    "plt.show()"
   ]
  },
  {
   "cell_type": "code",
   "execution_count": null,
   "id": "6aa41f77",
   "metadata": {},
   "outputs": [],
   "source": [
    "# step 6 : Model building\n",
    "start = time.time()"
   ]
  },
  {
   "cell_type": "code",
   "execution_count": 19,
   "id": "3aa15bda",
   "metadata": {},
   "outputs": [],
   "source": [
    "end =time.time()"
   ]
  },
  {
   "cell_type": "code",
   "execution_count": 20,
   "id": "b661595c",
   "metadata": {},
   "outputs": [
    {
     "data": {
      "text/plain": [
       "2.114781618118286"
      ]
     },
     "execution_count": 20,
     "metadata": {},
     "output_type": "execute_result"
    }
   ],
   "source": [
    "time = end - start\n",
    "time"
   ]
  }
 ],
 "metadata": {
  "kernelspec": {
   "display_name": "env",
   "language": "python",
   "name": "python3"
  },
  "language_info": {
   "codemirror_mode": {
    "name": "ipython",
    "version": 3
   },
   "file_extension": ".py",
   "mimetype": "text/x-python",
   "name": "python",
   "nbconvert_exporter": "python",
   "pygments_lexer": "ipython3",
   "version": "3.12.7"
  }
 },
 "nbformat": 4,
 "nbformat_minor": 5
}
